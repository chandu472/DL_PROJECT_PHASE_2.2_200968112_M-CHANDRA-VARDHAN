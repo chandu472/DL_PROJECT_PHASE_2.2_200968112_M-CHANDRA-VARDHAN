{
  "cells": [
    {
      "cell_type": "markdown",
      "metadata": {
        "id": "rVFWMt-kV8Ew"
      },
      "source": [
        "# DL PROJECT"
      ]
    },
    {
      "cell_type": "markdown",
      "metadata": {
        "id": "ppDAHFEraB4m"
      },
      "source": [
        "## DIABETIC RETINOPATHY DETECTION"
      ]
    },
    {
      "cell_type": "code",
      "execution_count": null,
      "metadata": {
        "colab": {
          "base_uri": "https://localhost:8080/"
        },
        "id": "hQX5YV0NLOyi",
        "outputId": "fc54e1ce-6246-4d93-849b-710836006eae"
      },
      "outputs": [
        {
          "name": "stdout",
          "output_type": "stream",
          "text": [
            "All modules have been imported\n"
          ]
        }
      ],
      "source": [
        "import numpy as np\n",
        "import matplotlib.pyplot as plt\n",
        "import tensorflow as tf\n",
        "# from keras.preprocessing.image import img_to_array\n",
        "# from keras.preprocessing.image import array_to_img\n",
        "# from sklearn.model_selection import train_test_split\n",
        "# from PIL import Image\n",
        "# import scipy\n",
        "\n",
        "import tensorflow as tf\n",
        "from tensorflow.keras.applications import *\n",
        "from tensorflow.keras.optimizers import *\n",
        "from tensorflow.keras.losses import *\n",
        "from tensorflow.keras.layers import *\n",
        "from tensorflow.keras.models import *\n",
        "from tensorflow.keras.callbacks import *\n",
        "from tensorflow.keras.preprocessing.image import *\n",
        "from tensorflow.keras.utils import *\n",
        "# import pydot\n",
        "from sklearn.metrics import *\n",
        "from sklearn.model_selection import *\n",
        "import tensorflow.keras.backend as K\n",
        "\n",
        "# from tqdm import tqdm, tqdm_notebook\n",
        "# from colorama import Fore\n",
        "# import json\n",
        "import matplotlib.pyplot as plt\n",
        "import seaborn as sns\n",
        "from glob import glob\n",
        "from skimage.io import *\n",
        "%config Completer.use_jedi = False\n",
        "# import time\n",
        "# from sklearn.decomposition import PCA\n",
        "# from sklearn.svm import LinearSVC\n",
        "# from sklearn.linear_model import LogisticRegression\n",
        "# from sklearn.metrics import accuracy_score\n",
        "# import lightgbm as lgb\n",
        "# import xgboost as xgb\n",
        "# !pip install livelossplot\n",
        "# import livelossplot\n",
        "# from livelossplot import PlotLossesKeras\n",
        "import warnings\n",
        "warnings.filterwarnings('ignore')\n",
        "print(\"All modules have been imported\")"
      ]
    },
    {
      "cell_type": "code",
      "execution_count": null,
      "metadata": {
        "colab": {
          "base_uri": "https://localhost:8080/"
        },
        "id": "LDRNoKWhVpyH",
        "outputId": "15c191c5-2759-477a-a120-954b1986bf97"
      },
      "outputs": [
        {
          "name": "stdout",
          "output_type": "stream",
          "text": [
            "mkdir: cannot create directory ‘/root/.keras’: File exists\n",
            "cp: cannot stat '../input/keras-pretrained-models/*notop*': No such file or directory\n",
            "cp: cannot stat '../input/keras-pretrained-models/imagenet_class_index.json': No such file or directory\n"
          ]
        }
      ],
      "source": [
        "# copy the weights and configurations for the pre-trained models\n",
        "!mkdir ~/.keras\n",
        "!mkdir ~/.keras/models\n",
        "!cp ../input/keras-pretrained-models/*notop* ~/.keras/models/\n",
        "!cp ../input/keras-pretrained-models/imagenet_class_index.json ~/.keras/models/"
      ]
    },
    {
      "cell_type": "code",
      "execution_count": null,
      "metadata": {
        "id": "WfnqOW3WWMuC"
      },
      "outputs": [],
      "source": [
        "import numpy as np # linear algebra\n",
        "import pandas as pd # data processing, CSV file I/O (e.g. pd.read_csv)\n",
        "import matplotlib.pyplot as plt # showing and rendering figures\n",
        "# io related\n",
        "from skimage.io import imread\n",
        "import os\n",
        "from glob import glob\n",
        "\n",
        "%matplotlib inline "
      ]
    },
    {
      "cell_type": "markdown",
      "metadata": {
        "id": "Jqv-A5wvaMf3"
      },
      "source": [
        "#### Data set of 10000 images"
      ]
    },
    {
      "cell_type": "code",
      "execution_count": null,
      "metadata": {
        "colab": {
          "base_uri": "https://localhost:8080/"
        },
        "id": "V19IGJEiCDdX",
        "outputId": "701c3067-c593-47b6-bbf5-b03137add758"
      },
      "outputs": [
        {
          "name": "stdout",
          "output_type": "stream",
          "text": [
            "Mounted at /content/drive\n"
          ]
        }
      ],
      "source": [
        "from google.colab import drive\n",
        "drive.mount('/content/drive')"
      ]
    },
    {
      "cell_type": "code",
      "execution_count": null,
      "metadata": {
        "colab": {
          "base_uri": "https://localhost:8080/",
          "height": 831
        },
        "id": "hYSzzsdZJHFB",
        "outputId": "0403a0b7-3baf-4d74-c05e-4c0947e0b213"
      },
      "outputs": [
        {
          "name": "stdout",
          "output_type": "stream",
          "text": [
            "       Unnamed: 0  Unnamed: 0.1        image  level  \\\n",
            "0               0             0      10_left      0   \n",
            "1               1             1     10_right      0   \n",
            "2               2             2      13_left      0   \n",
            "3               3             3     13_right      0   \n",
            "4               4             4      15_left      1   \n",
            "...           ...           ...          ...    ...   \n",
            "10183       10183         10190   12838_left      0   \n",
            "10184       10184         10191  12838_right      0   \n",
            "10185       10185         10192   12839_left      2   \n",
            "10186       10186         10193  12839_right      2   \n",
            "10187       10187         10194   12842_left      0   \n",
            "\n",
            "                                                    path  exists  \n",
            "0      /content/drive/MyDrive/Sample_data_10000/10_le...    True  \n",
            "1      /content/drive/MyDrive/Sample_data_10000/10_ri...    True  \n",
            "2      /content/drive/MyDrive/Sample_data_10000/13_le...    True  \n",
            "3      /content/drive/MyDrive/Sample_data_10000/13_ri...    True  \n",
            "4      /content/drive/MyDrive/Sample_data_10000/15_le...    True  \n",
            "...                                                  ...     ...  \n",
            "10183  /content/drive/MyDrive/Sample_data_10000/12838...    True  \n",
            "10184  /content/drive/MyDrive/Sample_data_10000/12838...    True  \n",
            "10185  /content/drive/MyDrive/Sample_data_10000/12839...    True  \n",
            "10186  /content/drive/MyDrive/Sample_data_10000/12839...    True  \n",
            "10187  /content/drive/MyDrive/Sample_data_10000/12842...    True  \n",
            "\n",
            "[10188 rows x 6 columns]\n"
          ]
        },
        {
          "data": {
            "text/html": [
              "\n",
              "  <div id=\"df-55de0c9a-c310-454b-9396-7addacf46ccc\">\n",
              "    <div class=\"colab-df-container\">\n",
              "      <div>\n",
              "<style scoped>\n",
              "    .dataframe tbody tr th:only-of-type {\n",
              "        vertical-align: middle;\n",
              "    }\n",
              "\n",
              "    .dataframe tbody tr th {\n",
              "        vertical-align: top;\n",
              "    }\n",
              "\n",
              "    .dataframe thead th {\n",
              "        text-align: right;\n",
              "    }\n",
              "</style>\n",
              "<table border=\"1\" class=\"dataframe\">\n",
              "  <thead>\n",
              "    <tr style=\"text-align: right;\">\n",
              "      <th></th>\n",
              "      <th>Unnamed: 0</th>\n",
              "      <th>Unnamed: 0.1</th>\n",
              "      <th>level</th>\n",
              "      <th>path</th>\n",
              "    </tr>\n",
              "  </thead>\n",
              "  <tbody>\n",
              "    <tr>\n",
              "      <th>0</th>\n",
              "      <td>669</td>\n",
              "      <td>670</td>\n",
              "      <td>2</td>\n",
              "      <td>/content/drive/MyDrive/Sample_data_10000/818_l...</td>\n",
              "    </tr>\n",
              "    <tr>\n",
              "      <th>1</th>\n",
              "      <td>5478</td>\n",
              "      <td>5482</td>\n",
              "      <td>0</td>\n",
              "      <td>/content/drive/MyDrive/Sample_data_10000/6888_...</td>\n",
              "    </tr>\n",
              "    <tr>\n",
              "      <th>2</th>\n",
              "      <td>4161</td>\n",
              "      <td>4165</td>\n",
              "      <td>2</td>\n",
              "      <td>/content/drive/MyDrive/Sample_data_10000/5213_...</td>\n",
              "    </tr>\n",
              "    <tr>\n",
              "      <th>3</th>\n",
              "      <td>3558</td>\n",
              "      <td>3562</td>\n",
              "      <td>2</td>\n",
              "      <td>/content/drive/MyDrive/Sample_data_10000/4464_...</td>\n",
              "    </tr>\n",
              "    <tr>\n",
              "      <th>4</th>\n",
              "      <td>1462</td>\n",
              "      <td>1464</td>\n",
              "      <td>0</td>\n",
              "      <td>/content/drive/MyDrive/Sample_data_10000/1832_...</td>\n",
              "    </tr>\n",
              "    <tr>\n",
              "      <th>5</th>\n",
              "      <td>3212</td>\n",
              "      <td>3216</td>\n",
              "      <td>0</td>\n",
              "      <td>/content/drive/MyDrive/Sample_data_10000/3994_...</td>\n",
              "    </tr>\n",
              "    <tr>\n",
              "      <th>6</th>\n",
              "      <td>5358</td>\n",
              "      <td>5362</td>\n",
              "      <td>0</td>\n",
              "      <td>/content/drive/MyDrive/Sample_data_10000/6740_...</td>\n",
              "    </tr>\n",
              "    <tr>\n",
              "      <th>7</th>\n",
              "      <td>10076</td>\n",
              "      <td>10083</td>\n",
              "      <td>2</td>\n",
              "      <td>/content/drive/MyDrive/Sample_data_10000/12699...</td>\n",
              "    </tr>\n",
              "    <tr>\n",
              "      <th>8</th>\n",
              "      <td>7506</td>\n",
              "      <td>7510</td>\n",
              "      <td>0</td>\n",
              "      <td>/content/drive/MyDrive/Sample_data_10000/9469_...</td>\n",
              "    </tr>\n",
              "    <tr>\n",
              "      <th>9</th>\n",
              "      <td>2957</td>\n",
              "      <td>2960</td>\n",
              "      <td>0</td>\n",
              "      <td>/content/drive/MyDrive/Sample_data_10000/3660_...</td>\n",
              "    </tr>\n",
              "  </tbody>\n",
              "</table>\n",
              "</div>\n",
              "      <button class=\"colab-df-convert\" onclick=\"convertToInteractive('df-55de0c9a-c310-454b-9396-7addacf46ccc')\"\n",
              "              title=\"Convert this dataframe to an interactive table.\"\n",
              "              style=\"display:none;\">\n",
              "        \n",
              "  <svg xmlns=\"http://www.w3.org/2000/svg\" height=\"24px\"viewBox=\"0 0 24 24\"\n",
              "       width=\"24px\">\n",
              "    <path d=\"M0 0h24v24H0V0z\" fill=\"none\"/>\n",
              "    <path d=\"M18.56 5.44l.94 2.06.94-2.06 2.06-.94-2.06-.94-.94-2.06-.94 2.06-2.06.94zm-11 1L8.5 8.5l.94-2.06 2.06-.94-2.06-.94L8.5 2.5l-.94 2.06-2.06.94zm10 10l.94 2.06.94-2.06 2.06-.94-2.06-.94-.94-2.06-.94 2.06-2.06.94z\"/><path d=\"M17.41 7.96l-1.37-1.37c-.4-.4-.92-.59-1.43-.59-.52 0-1.04.2-1.43.59L10.3 9.45l-7.72 7.72c-.78.78-.78 2.05 0 2.83L4 21.41c.39.39.9.59 1.41.59.51 0 1.02-.2 1.41-.59l7.78-7.78 2.81-2.81c.8-.78.8-2.07 0-2.86zM5.41 20L4 18.59l7.72-7.72 1.47 1.35L5.41 20z\"/>\n",
              "  </svg>\n",
              "      </button>\n",
              "      \n",
              "  <style>\n",
              "    .colab-df-container {\n",
              "      display:flex;\n",
              "      flex-wrap:wrap;\n",
              "      gap: 12px;\n",
              "    }\n",
              "\n",
              "    .colab-df-convert {\n",
              "      background-color: #E8F0FE;\n",
              "      border: none;\n",
              "      border-radius: 50%;\n",
              "      cursor: pointer;\n",
              "      display: none;\n",
              "      fill: #1967D2;\n",
              "      height: 32px;\n",
              "      padding: 0 0 0 0;\n",
              "      width: 32px;\n",
              "    }\n",
              "\n",
              "    .colab-df-convert:hover {\n",
              "      background-color: #E2EBFA;\n",
              "      box-shadow: 0px 1px 2px rgba(60, 64, 67, 0.3), 0px 1px 3px 1px rgba(60, 64, 67, 0.15);\n",
              "      fill: #174EA6;\n",
              "    }\n",
              "\n",
              "    [theme=dark] .colab-df-convert {\n",
              "      background-color: #3B4455;\n",
              "      fill: #D2E3FC;\n",
              "    }\n",
              "\n",
              "    [theme=dark] .colab-df-convert:hover {\n",
              "      background-color: #434B5C;\n",
              "      box-shadow: 0px 1px 3px 1px rgba(0, 0, 0, 0.15);\n",
              "      filter: drop-shadow(0px 1px 2px rgba(0, 0, 0, 0.3));\n",
              "      fill: #FFFFFF;\n",
              "    }\n",
              "  </style>\n",
              "\n",
              "      <script>\n",
              "        const buttonEl =\n",
              "          document.querySelector('#df-55de0c9a-c310-454b-9396-7addacf46ccc button.colab-df-convert');\n",
              "        buttonEl.style.display =\n",
              "          google.colab.kernel.accessAllowed ? 'block' : 'none';\n",
              "\n",
              "        async function convertToInteractive(key) {\n",
              "          const element = document.querySelector('#df-55de0c9a-c310-454b-9396-7addacf46ccc');\n",
              "          const dataTable =\n",
              "            await google.colab.kernel.invokeFunction('convertToInteractive',\n",
              "                                                     [key], {});\n",
              "          if (!dataTable) return;\n",
              "\n",
              "          const docLinkHtml = 'Like what you see? Visit the ' +\n",
              "            '<a target=\"_blank\" href=https://colab.research.google.com/notebooks/data_table.ipynb>data table notebook</a>'\n",
              "            + ' to learn more about interactive tables.';\n",
              "          element.innerHTML = '';\n",
              "          dataTable['output_type'] = 'display_data';\n",
              "          await google.colab.output.renderOutput(dataTable, element);\n",
              "          const docLink = document.createElement('div');\n",
              "          docLink.innerHTML = docLinkHtml;\n",
              "          element.appendChild(docLink);\n",
              "        }\n",
              "      </script>\n",
              "    </div>\n",
              "  </div>\n",
              "  "
            ],
            "text/plain": [
              "   Unnamed: 0  Unnamed: 0.1 level  \\\n",
              "0         669           670     2   \n",
              "1        5478          5482     0   \n",
              "2        4161          4165     2   \n",
              "3        3558          3562     2   \n",
              "4        1462          1464     0   \n",
              "5        3212          3216     0   \n",
              "6        5358          5362     0   \n",
              "7       10076         10083     2   \n",
              "8        7506          7510     0   \n",
              "9        2957          2960     0   \n",
              "\n",
              "                                                path  \n",
              "0  /content/drive/MyDrive/Sample_data_10000/818_l...  \n",
              "1  /content/drive/MyDrive/Sample_data_10000/6888_...  \n",
              "2  /content/drive/MyDrive/Sample_data_10000/5213_...  \n",
              "3  /content/drive/MyDrive/Sample_data_10000/4464_...  \n",
              "4  /content/drive/MyDrive/Sample_data_10000/1832_...  \n",
              "5  /content/drive/MyDrive/Sample_data_10000/3994_...  \n",
              "6  /content/drive/MyDrive/Sample_data_10000/6740_...  \n",
              "7  /content/drive/MyDrive/Sample_data_10000/12699...  \n",
              "8  /content/drive/MyDrive/Sample_data_10000/9469_...  \n",
              "9  /content/drive/MyDrive/Sample_data_10000/3660_...  "
            ]
          },
          "execution_count": 5,
          "metadata": {},
          "output_type": "execute_result"
        }
      ],
      "source": [
        "import os\n",
        "base_image_dir = os.path.join('.', '/content/drive/MyDrive/Sample_data_10000')\n",
        "df = pd.read_csv(os.path.join('/content/drive/MyDrive/trainLabels_cropped.csv'))\n",
        "df['path'] = df['image'].map(lambda x: os.path.join(base_image_dir,'{}.jpeg'.format(x)))\n",
        "df['exists'] = df['path'].map(os.path.exists) #Most of the files do not exist because this is a sample of the original dataset\n",
        "\n",
        "df = df[df['exists']]\n",
        "print(df[df['exists']])\n",
        "df = df.drop(columns=['image','exists'])\n",
        "df = df.sample(frac=1).reset_index(drop=True)#shuffle dataframe\n",
        "df['level'] = df['level'].astype(str)\n",
        "df.head(10)"
      ]
    },
    {
      "cell_type": "markdown",
      "metadata": {
        "id": "rdIpwTgTab3h"
      },
      "source": [
        "## PREPROCESSING"
      ]
    },
    {
      "cell_type": "markdown",
      "metadata": {
        "id": "byD8hcwtWe8i"
      },
      "source": [
        "## Distribution of Eye and Severity"
      ]
    },
    {
      "cell_type": "code",
      "execution_count": null,
      "metadata": {
        "colab": {
          "base_uri": "https://localhost:8080/",
          "height": 337
        },
        "id": "-t8PCFJCJrxh",
        "outputId": "6d5ee818-9ea1-418f-fdf3-35892855b5ea"
      },
      "outputs": [
        {
          "data": {
            "text/plain": [
              "<matplotlib.axes._subplots.AxesSubplot at 0x7fdaae7af190>"
            ]
          },
          "execution_count": 6,
          "metadata": {},
          "output_type": "execute_result"
        },
        {
          "data": {
            "image/png": "[encoded data removed]",
            "text/plain": [
              "<Figure size 720x360 with 1 Axes>"
            ]
          },
          "metadata": {
            "needs_background": "light"
          },
          "output_type": "display_data"
        }
      ],
      "source": [
        "df['level'].hist(figsize = (10, 5))"
      ]
    },
    {
      "cell_type": "code",
      "execution_count": null,
      "metadata": {
        "id": "Hqe6GLAEJr0d"
      },
      "outputs": [],
      "source": [
        "def balance_data(class_size,df):\n",
        "    train_df = df.groupby(['level']).apply(lambda x: x.sample(class_size, replace = True)).reset_index(drop = True)\n",
        "    train_df = train_df.sample(frac=1).reset_index(drop=True)\n",
        "    print('New Data Size:', train_df.shape[0], 'Old Size:', df.shape[0])\n",
        "    train_df['level'].hist(figsize = (10, 5))\n",
        "    return train_df"
      ]
    },
    {
      "cell_type": "markdown",
      "metadata": {
        "id": "N1VnI3pQWn8D"
      },
      "source": [
        "## Split Data into Training and Validation"
      ]
    },
    {
      "cell_type": "code",
      "execution_count": null,
      "metadata": {
        "colab": {
          "base_uri": "https://localhost:8080/",
          "height": 337
        },
        "id": "z5BCbyhnKOkg",
        "outputId": "fe771a2a-9292-4bb9-85ad-5647a371556c"
      },
      "outputs": [
        {
          "data": {
            "text/plain": [
              "2038"
            ]
          },
          "execution_count": 8,
          "metadata": {},
          "output_type": "execute_result"
        },
        {
          "data": {
            "image/png": "[encoded data removed]",
            "text/plain": [
              "<Figure size 720x360 with 1 Axes>"
            ]
          },
          "metadata": {
            "needs_background": "light"
          },
          "output_type": "display_data"
        }
      ],
      "source": [
        "from sklearn.model_selection import train_test_split\n",
        "train_df, val_df = train_test_split(df,test_size=0.2) # Here we will perform an 80%/20% split of the dataset, with stratification to keep similar distribution in validation set\n",
        "train_df['level'].hist(figsize = (10, 5))\n",
        "len(val_df)"
      ]
    },
    {
      "cell_type": "markdown",
      "metadata": {
        "id": "_FUZors-Ws_d"
      },
      "source": [
        "## Balancing the distribution in the Training set"
      ]
    },
    {
      "cell_type": "code",
      "execution_count": null,
      "metadata": {
        "colab": {
          "base_uri": "https://localhost:8080/",
          "height": 355
        },
        "id": "s2TEjDZeJr32",
        "outputId": "387a3bda-2bee-4b84-a5f4-bba8c1366c8b"
      },
      "outputs": [
        {
          "name": "stdout",
          "output_type": "stream",
          "text": [
            "New Data Size: 29640 Old Size: 8150\n"
          ]
        },
        {
          "data": {
            "text/plain": [
              "<matplotlib.axes._subplots.AxesSubplot at 0x7fdaae620410>"
            ]
          },
          "execution_count": 9,
          "metadata": {},
          "output_type": "execute_result"
        },
        {
          "data": {
            "image/png": "[encoded data removed]",
            "text/plain": [
              "<Figure size 720x360 with 1 Axes>"
            ]
          },
          "metadata": {
            "needs_background": "light"
          },
          "output_type": "display_data"
        }
      ],
      "source": [
        "train_df = balance_data(train_df.pivot_table(index='level', aggfunc=len).max().max(),train_df) # I will oversample such that all classes have the same number of images as the maximum\n",
        "train_df['level'].hist(figsize = (10, 5))"
      ]
    },
    {
      "cell_type": "code",
      "execution_count": null,
      "metadata": {
        "colab": {
          "base_uri": "https://localhost:8080/"
        },
        "id": "HZ8G1Wt6Jr67",
        "outputId": "5872eaa5-cca9-4b86-ea33-fa8f3e028805"
      },
      "outputs": [
        {
          "data": {
            "text/plain": [
              "31678"
            ]
          },
          "execution_count": 10,
          "metadata": {},
          "output_type": "execute_result"
        }
      ],
      "source": [
        "df = pd.concat([train_df,val_df]) #beginning of this dataframe is the oversampled training set, end is the validation set\n",
        "len(df)"
      ]
    },
    {
      "cell_type": "code",
      "execution_count": null,
      "metadata": {
        "id": "Ddnmb0FNLXYB"
      },
      "outputs": [],
      "source": [
        "from keras.preprocessing.image import ImageDataGenerator"
      ]
    },
    {
      "cell_type": "code",
      "execution_count": null,
      "metadata": {
        "id": "fjnL2uH3Jr9n"
      },
      "outputs": [],
      "source": [
        "train_datagen = ImageDataGenerator(\n",
        "    rescale=1.0/255,\n",
        "    horizontal_flip = True,\n",
        "    zoom_range=0.2\n",
        ")\n",
        "\n",
        "test_datagen = ImageDataGenerator(\n",
        "    rescale=1.0/255,\n",
        "    validation_split = 0.2\n",
        ")"
      ]
    },
    {
      "cell_type": "code",
      "execution_count": null,
      "metadata": {
        "colab": {
          "base_uri": "https://localhost:8080/"
        },
        "id": "ZhuVDAOBJsCQ",
        "outputId": "a6f3586d-297c-4e00-ee37-11e556568a58"
      },
      "outputs": [
        {
          "name": "stdout",
          "output_type": "stream",
          "text": [
            "Found 29640 validated image filenames belonging to 5 classes.\n",
            "Found 2038 validated image filenames belonging to 5 classes.\n"
          ]
        }
      ],
      "source": [
        "x_train = train_datagen.flow_from_dataframe(\n",
        "        train_df,\n",
        "        directory=\".\",\n",
        "        x_col=\"path\",\n",
        "        y_col=\"level\",\n",
        "        target_size=(256, 256),\n",
        "        batch_size=32,\n",
        "        class_mode='categorical')\n",
        "x_test = test_datagen.flow_from_dataframe(\n",
        "        val_df,\n",
        "        x_col=\"path\",\n",
        "        y_col=\"level\",\n",
        "        directory=\".\",\n",
        "        target_size=(256, 256),\n",
        "        batch_size=32,\n",
        "        class_mode='categorical')"
      ]
    },
    {
      "cell_type": "code",
      "execution_count": null,
      "metadata": {
        "id": "-K9RrRPJJsEo"
      },
      "outputs": [],
      "source": [
        "import itertools\n",
        "def plot_confusion_matrix(cm, classes,\n",
        "                          normalize=False,\n",
        "                          title='Confusion matrix',\n",
        "                          cmap=plt.cm.Blues):\n",
        "    \"\"\"\n",
        "    This function prints and plots the confusion matrix.\n",
        "    Normalization can be applied by setting `normalize=True`.\n",
        "    \"\"\"\n",
        "    plt.figure(figsize = (6,6))\n",
        "    plt.imshow(cm, interpolation='nearest', cmap=cmap)\n",
        "    plt.title(title)\n",
        "    plt.colorbar()\n",
        "    tick_marks = np.arange(len(classes))\n",
        "    plt.xticks(tick_marks, classes, rotation=90)\n",
        "    plt.yticks(tick_marks, classes)\n",
        "    if normalize:\n",
        "        cm = cm.astype('float') / cm.sum(axis=1)[:, np.newaxis]\n",
        "\n",
        "    thresh = cm.max() / 2.\n",
        "    cm = np.round(cm,2)\n",
        "    for i, j in itertools.product(range(cm.shape[0]), range(cm.shape[1])):\n",
        "        plt.text(j, i, cm[i, j],\n",
        "                 horizontalalignment=\"center\",\n",
        "                 color=\"white\" if cm[i, j] > thresh else \"black\")\n",
        "    plt.tight_layout()\n",
        "    plt.ylabel('True label')\n",
        "    plt.xlabel('Predicted label')\n",
        "    plt.show()"
      ]
    },
    {
      "cell_type": "markdown",
      "source": [
        "# Image Generators"
      ],
      "metadata": {
        "id": "Gu_ZjRsnaA3g"
      }
    },
    {
      "cell_type": "code",
      "execution_count": null,
      "metadata": {
        "id": "MRi8dgOwJsGy"
      },
      "outputs": [],
      "source": [
        "train_datagen = ImageDataGenerator(\n",
        "        rescale=1./255,\n",
        "        shear_range=0.2,\n",
        "        zoom_range=0.2,\n",
        "        horizontal_flip=True)\n",
        "test_datagen = ImageDataGenerator(rescale=1./255)"
      ]
    },
    {
      "cell_type": "code",
      "execution_count": null,
      "metadata": {
        "id": "61W8jovyJsJQ"
      },
      "outputs": [],
      "source": [
        "t_x, t_y = next(x_train)"
      ]
    },
    {
      "cell_type": "code",
      "execution_count": null,
      "metadata": {
        "id": "DD3ydlXFJsN5"
      },
      "outputs": [],
      "source": [
        "def create_CNN_model(model):\n",
        "    model.add(Conv2D(32, (3, 3), padding='same', activation='relu', input_shape=(264,264,3)))\n",
        "    model.add(MaxPooling2D(pool_size=(2, 2)))\n",
        "    model.add(Dropout(0.25))\n",
        "\n",
        "    model.add(Conv2D(64, (3, 3), padding='same', activation='relu'))\n",
        "    model.add(Conv2D(64, (3, 3), padding='same', activation='relu'))\n",
        "    model.add(MaxPooling2D(pool_size=(2, 2)))\n",
        "    model.add(Dropout(0.25))\n",
        "\n",
        "    model.add(Conv2D(128, (3, 3), padding='same', activation='relu'))\n",
        "    model.add(Conv2D(128, (3, 3), padding='same', activation='relu'))\n",
        "    model.add(MaxPooling2D(pool_size=(2, 2)))\n",
        "    model.add(Dropout(0.25))\n",
        "\n",
        "    model.add(Conv2D(256, (3, 3), padding='same', activation='relu'))\n",
        "    model.add(Conv2D(256, (3, 3), padding='same', activation='relu'))\n",
        "    model.add(MaxPooling2D(pool_size=(2, 2)))\n",
        "    model.add(Dropout(0.25))\n",
        "\n",
        "    model.add(Conv2D(128, (3, 3), padding='same', activation='relu'))\n",
        "    model.add(Conv2D(128, (3, 3), padding='same', activation='relu'))\n",
        "    model.add(MaxPooling2D(pool_size=(2, 2)))\n",
        "    model.add(Dropout(0.25))"
      ]
    },
    {
      "cell_type": "markdown",
      "source": [
        "# InceptionRestNet V2 and InceptionRestNet V3"
      ],
      "metadata": {
        "id": "9bVEgDIHaPPp"
      }
    },
    {
      "cell_type": "code",
      "execution_count": null,
      "metadata": {
        "colab": {
          "base_uri": "https://localhost:8080/"
        },
        "id": "7hDOuSPeJsQ7",
        "outputId": "1961088a-ffe9-4f31-d3d4-09b2a571a7a1"
      },
      "outputs": [
        {
          "name": "stdout",
          "output_type": "stream",
          "text": [
            "Downloading data from https://storage.googleapis.com/tensorflow/keras-applications/inception_v3/inception_v3_weights_tf_dim_ordering_tf_kernels_notop.h5\n",
            "87910968/87910968 [==============================] - 1s 0us/step\n",
            "Model: \"model\"\n",
            "__________________________________________________________________________________________________\n",
            " Layer (type)                   Output Shape         Param #     Connected to                     \n",
            "==================================================================================================\n",
            " input_1 (InputLayer)           [(None, 256, 256, 3  0           []                               \n",
            "                                )]                                                                \n",
            "                                                                                                  \n",
            " inception_v3 (Functional)      (None, 6, 6, 2048)   21802784    ['input_1[0][0]']                \n",
            "                                                                                                  \n",
            " batch_normalization_94 (BatchN  (None, 6, 6, 2048)  8192        ['inception_v3[0][0]']           \n",
            " ormalization)                                                                                    \n",
            "                                                                                                  \n",
            " dropout (Dropout)              (None, 6, 6, 2048)   0           ['batch_normalization_94[0][0]'] \n",
            "                                                                                                  \n",
            " conv2d_94 (Conv2D)             (None, 6, 6, 64)     131136      ['dropout[0][0]']                \n",
            "                                                                                                  \n",
            " conv2d_95 (Conv2D)             (None, 6, 6, 16)     1040        ['conv2d_94[0][0]']              \n",
            "                                                                                                  \n",
            " conv2d_96 (Conv2D)             (None, 6, 6, 8)      136         ['conv2d_95[0][0]']              \n",
            "                                                                                                  \n",
            " conv2d_97 (Conv2D)             (None, 6, 6, 1)      9           ['conv2d_96[0][0]']              \n",
            "                                                                                                  \n",
            " conv2d_98 (Conv2D)             (None, 6, 6, 2048)   2048        ['conv2d_97[0][0]']              \n",
            "                                                                                                  \n",
            " multiply (Multiply)            (None, 6, 6, 2048)   0           ['conv2d_98[0][0]',              \n",
            "                                                                  'batch_normalization_94[0][0]'] \n",
            "                                                                                                  \n",
            " global_average_pooling2d (Glob  (None, 2048)        0           ['multiply[0][0]']               \n",
            " alAveragePooling2D)                                                                              \n",
            "                                                                                                  \n",
            " global_average_pooling2d_1 (Gl  (None, 2048)        0           ['conv2d_98[0][0]']              \n",
            " obalAveragePooling2D)                                                                            \n",
            "                                                                                                  \n",
            " RescaleGAP (Lambda)            (None, 2048)         0           ['global_average_pooling2d[0][0]'\n",
            "                                                                 , 'global_average_pooling2d_1[0][\n",
            "                                                                 0]']                             \n",
            "                                                                                                  \n",
            " dropout_1 (Dropout)            (None, 2048)         0           ['RescaleGAP[0][0]']             \n",
            "                                                                                                  \n",
            " dense (Dense)                  (None, 128)          262272      ['dropout_1[0][0]']              \n",
            "                                                                                                  \n",
            " dropout_2 (Dropout)            (None, 128)          0           ['dense[0][0]']                  \n",
            "                                                                                                  \n",
            " dense_1 (Dense)                (None, 5)            645         ['dropout_2[0][0]']              \n",
            "                                                                                                  \n",
            "==================================================================================================\n",
            "Total params: 22,208,262\n",
            "Trainable params: 399,334\n",
            "Non-trainable params: 21,808,928\n",
            "__________________________________________________________________________________________________\n"
          ]
        }
      ],
      "source": [
        "from keras.applications.vgg16 import VGG16 as PTModel\n",
        "from keras.applications.inception_resnet_v2 import InceptionResNetV2 as PTModel\n",
        "from keras.applications.inception_v3 import InceptionV3 as PTModel\n",
        "from keras.layers import GlobalAveragePooling2D, Dense, Dropout, Flatten, Input, Conv2D, multiply, LocallyConnected2D, Lambda\n",
        "from keras.models import Model\n",
        "in_lay = Input(t_x.shape[1:])\n",
        "base_pretrained_model = PTModel(input_shape =  t_x.shape[1:], include_top = False, weights = 'imagenet')\n",
        "base_pretrained_model.trainable = False\n",
        "pt_depth = 2048\n",
        "pt_features = base_pretrained_model(in_lay)\n",
        "from keras.layers import BatchNormalization\n",
        "bn_features = BatchNormalization()(pt_features)\n",
        "\n",
        "# here we do an attention mechanism to turn pixels in the GAP on an off\n",
        "\n",
        "attn_layer = Conv2D(64, kernel_size = (1,1), padding = 'same', activation = 'relu')(Dropout(0.5)(bn_features))\n",
        "attn_layer = Conv2D(16, kernel_size = (1,1), padding = 'same', activation = 'relu')(attn_layer)\n",
        "attn_layer = Conv2D(8, kernel_size = (1,1), padding = 'same', activation = 'relu')(attn_layer)\n",
        "attn_layer = Conv2D(1, \n",
        "                    kernel_size = (1,1), \n",
        "                    padding = 'valid', \n",
        "                    activation = 'sigmoid')(attn_layer)\n",
        "# fan it out to all of the channels\n",
        "up_c2_w = np.ones((1, 1, 1, pt_depth))\n",
        "up_c2 = Conv2D(pt_depth, kernel_size = (1,1), padding = 'same', \n",
        "               activation = 'linear', use_bias = False, weights = [up_c2_w])\n",
        "up_c2.trainable = False\n",
        "attn_layer = up_c2(attn_layer)\n",
        "\n",
        "mask_features = multiply([attn_layer, bn_features])\n",
        "gap_features = GlobalAveragePooling2D()(mask_features)\n",
        "gap_mask = GlobalAveragePooling2D()(attn_layer)\n",
        "# to account for missing values from the attention model\n",
        "gap = Lambda(lambda x: x[0]/x[1], name = 'RescaleGAP')([gap_features, gap_mask])\n",
        "gap_dr = Dropout(0.25)(gap)\n",
        "dr_steps = Dropout(0.25)(Dense(128, activation = 'relu')(gap_dr))\n",
        "out_layer = Dense(t_y.shape[-1], activation = 'softmax')(dr_steps)\n",
        "model = Model(inputs = [in_lay], outputs = [out_layer])\n",
        "from keras.metrics import top_k_categorical_accuracy\n",
        "def top_2_accuracy(in_gt, in_pred):\n",
        "    return top_k_categorical_accuracy(in_gt, in_pred, k=2)\n",
        "\n",
        "model.compile(optimizer = 'adam', loss = 'categorical_crossentropy',\n",
        "                           metrics = ['categorical_accuracy', top_2_accuracy])\n",
        "model.summary()"
      ]
    },
    {
      "cell_type": "code",
      "execution_count": null,
      "metadata": {
        "colab": {
          "base_uri": "https://localhost:8080/"
        },
        "id": "AanRJSMwJsTL",
        "outputId": "bf23574d-767e-44ee-d32c-b45039f38807"
      },
      "outputs": [
        {
          "name": "stdout",
          "output_type": "stream",
          "text": [
            "Model: \"model\"\n",
            "__________________________________________________________________________________________________\n",
            " Layer (type)                   Output Shape         Param #     Connected to                     \n",
            "==================================================================================================\n",
            " input_1 (InputLayer)           [(None, 256, 256, 3  0           []                               \n",
            "                                )]                                                                \n",
            "                                                                                                  \n",
            " inception_v3 (Functional)      (None, 6, 6, 2048)   21802784    ['input_1[0][0]']                \n",
            "                                                                                                  \n",
            " batch_normalization_94 (BatchN  (None, 6, 6, 2048)  8192        ['inception_v3[0][0]']           \n",
            " ormalization)                                                                                    \n",
            "                                                                                                  \n",
            " dropout (Dropout)              (None, 6, 6, 2048)   0           ['batch_normalization_94[0][0]'] \n",
            "                                                                                                  \n",
            " conv2d_94 (Conv2D)             (None, 6, 6, 64)     131136      ['dropout[0][0]']                \n",
            "                                                                                                  \n",
            " conv2d_95 (Conv2D)             (None, 6, 6, 16)     1040        ['conv2d_94[0][0]']              \n",
            "                                                                                                  \n",
            " conv2d_96 (Conv2D)             (None, 6, 6, 8)      136         ['conv2d_95[0][0]']              \n",
            "                                                                                                  \n",
            " conv2d_97 (Conv2D)             (None, 6, 6, 1)      9           ['conv2d_96[0][0]']              \n",
            "                                                                                                  \n",
            " conv2d_98 (Conv2D)             (None, 6, 6, 2048)   2048        ['conv2d_97[0][0]']              \n",
            "                                                                                                  \n",
            " multiply (Multiply)            (None, 6, 6, 2048)   0           ['conv2d_98[0][0]',              \n",
            "                                                                  'batch_normalization_94[0][0]'] \n",
            "                                                                                                  \n",
            " global_average_pooling2d (Glob  (None, 2048)        0           ['multiply[0][0]']               \n",
            " alAveragePooling2D)                                                                              \n",
            "                                                                                                  \n",
            " global_average_pooling2d_1 (Gl  (None, 2048)        0           ['conv2d_98[0][0]']              \n",
            " obalAveragePooling2D)                                                                            \n",
            "                                                                                                  \n",
            " RescaleGAP (Lambda)            (None, 2048)         0           ['global_average_pooling2d[0][0]'\n",
            "                                                                 , 'global_average_pooling2d_1[0][\n",
            "                                                                 0]']                             \n",
            "                                                                                                  \n",
            " dropout_1 (Dropout)            (None, 2048)         0           ['RescaleGAP[0][0]']             \n",
            "                                                                                                  \n",
            " dense (Dense)                  (None, 128)          262272      ['dropout_1[0][0]']              \n",
            "                                                                                                  \n",
            " dropout_2 (Dropout)            (None, 128)          0           ['dense[0][0]']                  \n",
            "                                                                                                  \n",
            " dense_1 (Dense)                (None, 5)            645         ['dropout_2[0][0]']              \n",
            "                                                                                                  \n",
            "==================================================================================================\n",
            "Total params: 22,208,262\n",
            "Trainable params: 399,334\n",
            "Non-trainable params: 21,808,928\n",
            "__________________________________________________________________________________________________\n"
          ]
        }
      ],
      "source": [
        "model.summary()"
      ]
    },
    {
      "cell_type": "code",
      "execution_count": null,
      "metadata": {
        "id": "t-3E7EUQLA4Q"
      },
      "outputs": [],
      "source": [
        "filepath = \"dr-detector.hdf5\"\n",
        "checkpoint = ModelCheckpoint(filepath,\n",
        "                             monitor=\"val_top2_accuracy\",\n",
        "                             verbose=1,\n",
        "                             save_best_only=True,\n",
        "                             mode=\"max\")\n",
        "\n",
        "earlystop = EarlyStopping(monitor='val_categorical_accuracy',\n",
        "                          verbose=1, \n",
        "                          min_delta=0, \n",
        "                          patience=15, \n",
        "                          restore_best_weights=True)\n",
        "\n",
        "reduce_lr = ReduceLROnPlateau(monitor='val_loss', \n",
        "                              verbose=1,\n",
        "                              factor=0.2, \n",
        "                              patience=6, \n",
        "                              min_delta=0.0001,\n",
        "                              cooldown=0,\n",
        "                              min_lr=0.001)\n",
        "\n",
        "\n",
        "callbacks = [checkpoint, earlystop, reduce_lr]"
      ]
    },
    {
      "cell_type": "code",
      "execution_count": null,
      "metadata": {
        "colab": {
          "base_uri": "https://localhost:8080/"
        },
        "id": "03D3T_v0LA7N",
        "outputId": "bfde2e10-f9fd-4c59-e0b3-3ca48b943fb8"
      },
      "outputs": [
        {
          "name": "stdout",
          "output_type": "stream",
          "text": [
            "Epoch 1/5\n",
            "463/463 [==============================] - ETA: 0s - loss: 1.2693 - categorical_accuracy: 0.4478 - top_2_accuracy: 0.6954"
          ]
        },
        {
          "name": "stderr",
          "output_type": "stream",
          "text": [
            "WARNING:tensorflow:Can save best model only with val_top2_accuracy available, skipping.\n"
          ]
        },
        {
          "name": "stdout",
          "output_type": "stream",
          "text": [
            "\b\b\b\b\b\b\b\b\b\b\b\b\b\b\b\b\b\b\b\b\b\b\b\b\b\b\b\b\b\b\b\b\b\b\b\b\b\b\b\b\b\b\b\b\b\b\b\b\b\b\b\b\b\b\b\b\b\b\b\b\b\b\b\b\b\b\b\b\b\b\b\b\b\b\b\b\b\b\b\b\b\b\b\b\b\b\b\b\b\b\b\b\b\b\b\b\b\b\b\b\b\b\b\b\b\b\b\b\b\b\b\b\b\b\b\b\b\b\b\b\b\r",
            "463/463 [==============================] - 1656s 4s/step - loss: 1.2693 - categorical_accuracy: 0.4478 - top_2_accuracy: 0.6954 - val_loss: 1.3496 - val_categorical_accuracy: 0.2974 - val_top_2_accuracy: 0.6784 - lr: 0.0010\n",
            "Epoch 2/5\n",
            "463/463 [==============================] - ETA: 0s - loss: 1.0612 - categorical_accuracy: 0.5389 - top_2_accuracy: 0.7735"
          ]
        },
        {
          "name": "stderr",
          "output_type": "stream",
          "text": [
            "WARNING:tensorflow:Can save best model only with val_top2_accuracy available, skipping.\n"
          ]
        },
        {
          "name": "stdout",
          "output_type": "stream",
          "text": [
            "\b\b\b\b\b\b\b\b\b\b\b\b\b\b\b\b\b\b\b\b\b\b\b\b\b\b\b\b\b\b\b\b\b\b\b\b\b\b\b\b\b\b\b\b\b\b\b\b\b\b\b\b\b\b\b\b\b\b\b\b\b\b\b\b\b\b\b\b\b\b\b\b\b\b\b\b\b\b\b\b\b\b\b\b\b\b\b\b\b\b\b\b\b\b\b\b\b\b\b\b\b\b\b\b\b\b\b\b\b\b\b\b\b\b\b\b\b\b\b\b\b\r",
            "463/463 [==============================] - 748s 2s/step - loss: 1.0612 - categorical_accuracy: 0.5389 - top_2_accuracy: 0.7735 - val_loss: 1.3031 - val_categorical_accuracy: 0.2964 - val_top_2_accuracy: 0.7137 - lr: 0.0010\n",
            "Epoch 3/5\n",
            "463/463 [==============================] - ETA: 0s - loss: 0.9589 - categorical_accuracy: 0.5869 - top_2_accuracy: 0.8068"
          ]
        },
        {
          "name": "stderr",
          "output_type": "stream",
          "text": [
            "WARNING:tensorflow:Can save best model only with val_top2_accuracy available, skipping.\n"
          ]
        },
        {
          "name": "stdout",
          "output_type": "stream",
          "text": [
            "\b\b\b\b\b\b\b\b\b\b\b\b\b\b\b\b\b\b\b\b\b\b\b\b\b\b\b\b\b\b\b\b\b\b\b\b\b\b\b\b\b\b\b\b\b\b\b\b\b\b\b\b\b\b\b\b\b\b\b\b\b\b\b\b\b\b\b\b\b\b\b\b\b\b\b\b\b\b\b\b\b\b\b\b\b\b\b\b\b\b\b\b\b\b\b\b\b\b\b\b\b\b\b\b\b\b\b\b\b\b\b\b\b\b\b\b\b\b\b\b\b\r",
            "463/463 [==============================] - 558s 1s/step - loss: 0.9589 - categorical_accuracy: 0.5869 - top_2_accuracy: 0.8068 - val_loss: 1.2503 - val_categorical_accuracy: 0.3810 - val_top_2_accuracy: 0.7530 - lr: 0.0010\n",
            "Epoch 4/5\n",
            "463/463 [==============================] - ETA: 0s - loss: 0.8873 - categorical_accuracy: 0.6149 - top_2_accuracy: 0.8274"
          ]
        },
        {
          "name": "stderr",
          "output_type": "stream",
          "text": [
            "WARNING:tensorflow:Can save best model only with val_top2_accuracy available, skipping.\n"
          ]
        },
        {
          "name": "stdout",
          "output_type": "stream",
          "text": [
            "\b\b\b\b\b\b\b\b\b\b\b\b\b\b\b\b\b\b\b\b\b\b\b\b\b\b\b\b\b\b\b\b\b\b\b\b\b\b\b\b\b\b\b\b\b\b\b\b\b\b\b\b\b\b\b\b\b\b\b\b\b\b\b\b\b\b\b\b\b\b\b\b\b\b\b\b\b\b\b\b\b\b\b\b\b\b\b\b\b\b\b\b\b\b\b\b\b\b\b\b\b\b\b\b\b\b\b\b\b\b\b\b\b\b\b\b\b\b\b\b\b\r",
            "463/463 [==============================] - 484s 1s/step - loss: 0.8873 - categorical_accuracy: 0.6149 - top_2_accuracy: 0.8274 - val_loss: 1.2060 - val_categorical_accuracy: 0.4224 - val_top_2_accuracy: 0.7913 - lr: 0.0010\n",
            "Epoch 5/5\n",
            "463/463 [==============================] - ETA: 0s - loss: 0.8494 - categorical_accuracy: 0.6318 - top_2_accuracy: 0.8425"
          ]
        },
        {
          "name": "stderr",
          "output_type": "stream",
          "text": [
            "WARNING:tensorflow:Can save best model only with val_top2_accuracy available, skipping.\n"
          ]
        },
        {
          "name": "stdout",
          "output_type": "stream",
          "text": [
            "\b\b\b\b\b\b\b\b\b\b\b\b\b\b\b\b\b\b\b\b\b\b\b\b\b\b\b\b\b\b\b\b\b\b\b\b\b\b\b\b\b\b\b\b\b\b\b\b\b\b\b\b\b\b\b\b\b\b\b\b\b\b\b\b\b\b\b\b\b\b\b\b\b\b\b\b\b\b\b\b\b\b\b\b\b\b\b\b\b\b\b\b\b\b\b\b\b\b\b\b\b\b\b\b\b\b\b\b\b\b\b\b\b\b\b\b\b\b\b\b\b\r",
            "463/463 [==============================] - 455s 983ms/step - loss: 0.8494 - categorical_accuracy: 0.6318 - top_2_accuracy: 0.8425 - val_loss: 1.2473 - val_categorical_accuracy: 0.3518 - val_top_2_accuracy: 0.7833 - lr: 0.0010\n"
          ]
        }
      ],
      "source": [
        "history = model.fit(\n",
        "        x_train,\n",
        "        steps_per_epoch=x_train.samples // 64,\n",
        "        epochs=5,\n",
        "        validation_data=x_test,\n",
        "        validation_steps=x_test.samples // 64,\n",
        "        callbacks=callbacks)\n",
        "model.save_weights(\"dr_messidor.h5\")"
      ]
    },
    {
      "cell_type": "code",
      "execution_count": null,
      "metadata": {
        "colab": {
          "base_uri": "https://localhost:8080/"
        },
        "id": "x8Bkh5ScLA9a",
        "outputId": "18323bc7-83f2-443a-b5c8-88116cc8867e"
      },
      "outputs": [
        {
          "name": "stdout",
          "output_type": "stream",
          "text": [
            "927/927 [==============================] - 808s 871ms/step - loss: 0.6693 - categorical_accuracy: 0.7151 - top_2_accuracy: 0.8965\n",
            "64/64 [==============================] - 47s 741ms/step - loss: 1.2464 - categorical_accuracy: 0.3611 - top_2_accuracy: 0.7753\n",
            "Final training accuracy = 71.51 , validation accuracy = 36.11\n",
            "Final training loss = 0.67 , validation loss = 1.25\n"
          ]
        }
      ],
      "source": [
        "train_score = model.evaluate(x_train)\n",
        "test_score = model.evaluate(x_test)"
      ]
    },
    {
      "cell_type": "code",
      "execution_count": null,
      "metadata": {
        "colab": {
          "base_uri": "https://localhost:8080/"
        },
        "id": "g5nPZmx0jPO3",
        "outputId": "183f1ec9-1cb4-400f-b212-cbec196a06ee"
      },
      "outputs": [
        {
          "name": "stdout",
          "output_type": "stream",
          "text": [
            "Final training categorical accuracy = 71.51 , Final validation categorical accuracy = 36.11\n",
            "Final training Top 2 accuracy = 89.65 , Final validation Top 2 accuracy = 77.53\n",
            "Final training loss = 0.67 , Final validation loss = 1.25\n"
          ]
        }
      ],
      "source": [
        "print(\"Final training categorical accuracy = {:.2f} , Final validation categorical accuracy = {:.2f}\".format(train_score[1]*100, test_score[1]*100))\n",
        "print(\"Final training Top 2 accuracy = {:.2f} , Final validation Top 2 accuracy = {:.2f}\".format(train_score[2]*100, test_score[2]*100))\n",
        "print(\"Final training loss = {:.2f} , Final validation loss = {:.2f}\".format(train_score[0], test_score[0]))"
      ]
    },
    {
      "cell_type": "code",
      "execution_count": null,
      "metadata": {
        "colab": {
          "base_uri": "https://localhost:8080/"
        },
        "id": "o-KKx0y6LA_p",
        "outputId": "7059a1ac-f5ae-4b69-cf8f-95b2a2505a9a"
      },
      "outputs": [
        {
          "data": {
            "text/plain": [
              "{'loss': [1.2693049907684326,\n",
              "  1.0611631870269775,\n",
              "  0.9588732719421387,\n",
              "  0.8873332142829895,\n",
              "  0.8493701219558716],\n",
              " 'categorical_accuracy': [0.447809636592865,\n",
              "  0.5388723611831665,\n",
              "  0.5868712663650513,\n",
              "  0.6149269938468933,\n",
              "  0.6318169832229614],\n",
              " 'top_2_accuracy': [0.6953758597373962,\n",
              "  0.7735262513160706,\n",
              "  0.8067874312400818,\n",
              "  0.8274067044258118,\n",
              "  0.8424676060676575],\n",
              " 'val_loss': [1.3496137857437134,\n",
              "  1.303057074546814,\n",
              "  1.250259280204773,\n",
              "  1.2060410976409912,\n",
              "  1.2473151683807373],\n",
              " 'val_categorical_accuracy': [0.2973790466785431,\n",
              "  0.2963709533214569,\n",
              "  0.38104838132858276,\n",
              "  0.4223790466785431,\n",
              "  0.35181450843811035],\n",
              " 'val_top_2_accuracy': [0.6784273982048035,\n",
              "  0.7137096524238586,\n",
              "  0.7530242204666138,\n",
              "  0.7913306355476379,\n",
              "  0.7832661271095276],\n",
              " 'lr': [0.001, 0.001, 0.001, 0.001, 0.001]}"
            ]
          },
          "execution_count": 27,
          "metadata": {},
          "output_type": "execute_result"
        }
      ],
      "source": [
        "history.history"
      ]
    },
    {
      "cell_type": "code",
      "execution_count": null,
      "metadata": {
        "colab": {
          "base_uri": "https://localhost:8080/",
          "height": 350
        },
        "id": "hJ2jzC8WLBB2",
        "outputId": "94fede89-dcce-46a5-d015-a4797d4f8365"
      },
      "outputs": [
        {
          "data": {
            "image/png": "[encoded data removed]",
            "text/plain": [
              "<Figure size 1008x360 with 2 Axes>"
            ]
          },
          "metadata": {
            "needs_background": "light"
          },
          "output_type": "display_data"
        }
      ],
      "source": [
        "plt.figure(figsize=(14,5))\n",
        "plt.subplot(1,2,2)\n",
        "plt.plot(history.history['categorical_accuracy'])\n",
        "plt.plot(history.history['val_categorical_accuracy'])\n",
        "plt.title('Model Accuracy')\n",
        "plt.xlabel('Epochs')\n",
        "plt.ylabel('Accuracy')\n",
        "plt.legend(['train', 'test'], loc='upper left')\n",
        "\n",
        "plt.subplot(1,2,1)\n",
        "plt.plot(history.history['loss'])\n",
        "plt.plot(history.history['val_loss'])\n",
        "plt.title('Model Loss')\n",
        "plt.xlabel('Epochs')\n",
        "plt.ylabel('Loss')\n",
        "plt.legend(['train', 'test'], loc='upper left')\n",
        "plt.show()"
      ]
    },
    {
      "cell_type": "code",
      "execution_count": null,
      "metadata": {
        "colab": {
          "base_uri": "https://localhost:8080/",
          "height": 813
        },
        "id": "sHQVMAjGLBFf",
        "outputId": "153b3a7a-393a-44ed-f3a4-13858bd5ef95"
      },
      "outputs": [
        {
          "name": "stdout",
          "output_type": "stream",
          "text": [
            "927/927 [==============================] - 796s 858ms/step\n",
            "Confusion Matrix\n",
            "[[1042 1318 1164 1229 1175]\n",
            " [ 983 1240 1162 1260 1283]\n",
            " [ 953 1298 1180 1222 1275]\n",
            " [ 979 1280 1150 1302 1217]\n",
            " [ 961 1263 1127 1265 1312]]\n",
            "Classification Report\n",
            "              precision    recall  f1-score   support\n",
            "\n",
            "           0       0.21      0.18      0.19      5928\n",
            "           1       0.19      0.21      0.20      5928\n",
            "           2       0.20      0.20      0.20      5928\n",
            "           3       0.21      0.22      0.21      5928\n",
            "           4       0.21      0.22      0.22      5928\n",
            "\n",
            "    accuracy                           0.20     29640\n",
            "   macro avg       0.21      0.20      0.20     29640\n",
            "weighted avg       0.21      0.20      0.20     29640\n",
            "\n"
          ]
        },
        {
          "data": {
            "image/png": "[encoded data removed]",
            "text/plain": [
              "<Figure size 576x576 with 2 Axes>"
            ]
          },
          "metadata": {
            "needs_background": "light"
          },
          "output_type": "display_data"
        }
      ],
      "source": [
        "y_pred = model.predict(x_train)\n",
        "y_pred = np.argmax(y_pred, axis=1)\n",
        "class_labels = x_test.class_indices\n",
        "class_labels = {v:k for k,v in class_labels.items()}\n",
        "\n",
        "from sklearn.metrics import classification_report, confusion_matrix\n",
        "cm_train = confusion_matrix(x_train.classes, y_pred)\n",
        "print('Confusion Matrix')\n",
        "print(cm_train)\n",
        "print('Classification Report')\n",
        "target_names = list(class_labels.values())\n",
        "print(classification_report(x_train.classes, y_pred, target_names=target_names))\n",
        "\n",
        "plt.figure(figsize=(8,8))\n",
        "plt.imshow(cm_train, interpolation='nearest')\n",
        "plt.colorbar()\n",
        "tick_mark = np.arange(len(target_names))\n",
        "_ = plt.xticks(tick_mark, target_names, rotation=90)\n",
        "_ = plt.yticks(tick_mark, target_names)"
      ]
    },
    {
      "cell_type": "code",
      "execution_count": null,
      "metadata": {
        "id": "5Vl1BL79LBJU"
      },
      "outputs": [],
      "source": []
    },
    {
      "cell_type": "code",
      "execution_count": null,
      "metadata": {
        "id": "6k11gT9CLBOu"
      },
      "outputs": [],
      "source": []
    }
  ],
  "metadata": {
    "accelerator": "GPU",
    "colab": {
      "collapsed_sections": [],
      "provenance": []
    },
    "gpuClass": "standard",
    "kernelspec": {
      "display_name": "Python 3",
      "language": "python",
      "name": "python3"
    },
    "language_info": {
      "codemirror_mode": {
        "name": "ipython",
        "version": 3
      },
      "file_extension": ".py",
      "mimetype": "text/x-python",
      "name": "python",
      "nbconvert_exporter": "python",
      "pygments_lexer": "ipython3",
      "version": "3.8.8"
    }
  },
  "nbformat": 4,
  "nbformat_minor": 0
}
